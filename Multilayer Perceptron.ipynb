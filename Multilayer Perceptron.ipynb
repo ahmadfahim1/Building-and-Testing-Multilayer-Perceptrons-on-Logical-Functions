{
 "cells": [
  {
   "cell_type": "code",
   "execution_count": 1,
   "id": "4f51b465-51f5-4c8e-a377-9e68e4570785",
   "metadata": {},
   "outputs": [],
   "source": [
    "import numpy as np\n",
    "from scipy.special import expit\n",
    "from matplotlib import pyplot as plt\n",
    "import sys\n",
    "import random"
   ]
  },
  {
   "cell_type": "code",
   "execution_count": 2,
   "id": "4c34eacf-0f16-41e8-9e39-f0a3615e208c",
   "metadata": {},
   "outputs": [],
   "source": [
    "random.seed(42)"
   ]
  },
  {
   "cell_type": "code",
   "execution_count": 3,
   "id": "27f87982-e082-4653-a5ab-32f9ea29aab1",
   "metadata": {},
   "outputs": [],
   "source": [
    "x1 = np.array([0,0,0,0,1,1,1,1])\n",
    "x2 = np.array([0,0,1,1,0,0,1,1])\n",
    "x3 = np.array([0,1,0,1,0,1,0,1])"
   ]
  },
  {
   "cell_type": "code",
   "execution_count": 4,
   "id": "4bd0fe91-59e3-41af-886c-1d1d33b4c72e",
   "metadata": {},
   "outputs": [],
   "source": [
    "def perceptron(x1,x2,x3,w1,w2,w3,w0):\n",
    "    return expit(w1*x1+w2*x2+w3*x3+w0)"
   ]
  },
  {
   "cell_type": "code",
   "execution_count": 5,
   "id": "9e7070e1-59e3-420e-9f95-1a19a531cc20",
   "metadata": {},
   "outputs": [],
   "source": [
    "def mlp(w11,w12,w13,w10,w21,w22,w23,w20,w1,w2,w3,w0,x1,x2,x3):\n",
    "    y1 = perceptron(x1,x2,x3,w11,w12,w13,w10)\n",
    "    y2 = perceptron(x1,x2,x3,w21,w22,w23,w20)\n",
    "    #y  = perceptron(y1,y2,y3,w1,w2,w3,w0)\n",
    "    return y"
   ]
  },
  {
   "cell_type": "markdown",
   "id": "b0d70497-1918-46ad-996f-c743ba6f4509",
   "metadata": {},
   "source": [
    "# Multi Layer Perceptron\r",
    " <img src=\"mlp.png\" style=\"width:600px;height:400px\">e>\r\n",
    "e>\r\n",
    "e>\r\n",
    "re>"
   ]
  },
  {
   "cell_type": "code",
   "execution_count": 8,
   "id": "c7b2ef41-b839-47ca-9159-e7b2b75fcf98",
   "metadata": {},
   "outputs": [
    {
     "name": "stdout",
     "output_type": "stream",
     "text": [
      "Select Operation OR for (x1 ∨ x2 ∨ x3) || AND for (x1 ∧ x2 ∧ x3) || OTHER for ((x1 ∧ ¬x2) ∨ (¬x1 ∧ x2)) ∧ x3\n"
     ]
    },
    {
     "name": "stdin",
     "output_type": "stream",
     "text": [
      "Give operation:  OR\n"
     ]
    },
    {
     "name": "stdout",
     "output_type": "stream",
     "text": [
      "Output for operation x1 ∨ x2 ∨ x3\n",
      " Ground Truth Value : [0 1 1 1 1 1 1 1]\n",
      " Final Predicted Value : [0.014 0.991 0.991 0.996 0.992 0.996 0.996 0.996]\n",
      "Select Operation OR for (x1 ∨ x2 ∨ x3) || AND for (x1 ∧ x2 ∧ x3) || OTHER for ((x1 ∧ ¬x2) ∨ (¬x1 ∧ x2)) ∧ x3\n"
     ]
    },
    {
     "name": "stdin",
     "output_type": "stream",
     "text": [
      "Give operation:  AND\n"
     ]
    },
    {
     "name": "stdout",
     "output_type": "stream",
     "text": [
      "Output for operation x1 ∧ x2 ∧ x3\n",
      " Ground Truth Value : [0 0 0 0 0 0 0 1]\n",
      " Final Predicted Value : [0.    0.001 0.003 0.006 0.    0.014 0.013 0.978]\n",
      "Select Operation OR for (x1 ∨ x2 ∨ x3) || AND for (x1 ∧ x2 ∧ x3) || OTHER for ((x1 ∧ ¬x2) ∨ (¬x1 ∧ x2)) ∧ x3\n"
     ]
    },
    {
     "name": "stdin",
     "output_type": "stream",
     "text": [
      "Give operation:  OTHER\n"
     ]
    },
    {
     "name": "stdout",
     "output_type": "stream",
     "text": [
      "Output for operation ((x1 ∧ ¬x2) ∨ (¬x1 ∧ x2)) ∧ x3\n",
      " Ground Truth Value : [0 0 0 1 0 1 0 0]\n",
      " Final Predicted Value : [0.003 0.014 0.004 0.984 0.004 0.984 0.004 0.012]\n",
      "Select Operation OR for (x1 ∨ x2 ∨ x3) || AND for (x1 ∧ x2 ∧ x3) || OTHER for ((x1 ∧ ¬x2) ∨ (¬x1 ∧ x2)) ∧ x3\n"
     ]
    },
    {
     "name": "stdin",
     "output_type": "stream",
     "text": [
      "Give operation:  e\n"
     ]
    },
    {
     "ename": "SystemExit",
     "evalue": "",
     "output_type": "error",
     "traceback": [
      "An exception has occurred, use %tb to see the full traceback.\n",
      "\u001b[1;31mSystemExit\u001b[0m\n"
     ]
    }
   ],
   "source": [
    "while True:\n",
    "    print(\"Select Operation OR for (x1 ∨ x2 ∨ x3) || AND for (x1 ∧ x2 ∧ x3) || OTHER for ((x1 ∧ ¬x2) ∨ (¬x1 ∧ x2)) ∧ x3\")\n",
    "    operation = input(\"Give operation: \")\n",
    "    if operation == \"OR\":\n",
    "        y = np.array([0,1,1,1,1,1,1,1])\n",
    "        \n",
    "        print(\"Output for operation x1 ∨ x2 ∨ x3\")\n",
    "    elif operation ==\"AND\":\n",
    "        y = np.array([0,0,0,0,0,0,0,1])\n",
    "        print(\"Output for operation x1 ∧ x2 ∧ x3\")\n",
    "    elif operation == \"OTHER\":\n",
    "        y = np.array([0,0,0,1,0,1,0,0])\n",
    "        print(\"Output for operation ((x1 ∧ ¬x2) ∨ (¬x1 ∧ x2)) ∧ x3\")\n",
    "    else:\n",
    "        sys.exit()\n",
    "\n",
    "    w11_t = np.random.normal(-1,1)\n",
    "    w12_t = np.random.normal(-1,1)\n",
    "    w13_t = np.random.normal(-1,1)\n",
    "    w10_t = np.random.normal(-1,1)\n",
    "    w21_t = np.random.normal(-1,1)\n",
    "    w22_t = np.random.normal(-1,1)\n",
    "    w23_t = np.random.normal(-1,1)\n",
    "    w20_t = np.random.normal(-1,1)\n",
    "        \n",
    "    w1_t = np.random.normal(-1,1)\n",
    "    w2_t = np.random.normal(-1,1)\n",
    "    w0_t = np.random.normal(-1,1)\n",
    "    \n",
    "    num_of_epochs = 20000\n",
    "    lr = 0.15\n",
    "    MSE = np.zeros([num_of_epochs,1])\n",
    "    for e in range(num_of_epochs):\n",
    "        #forward\n",
    "        y_1 = perceptron(x1,x2,x3,w11_t,w12_t,w13_t,w10_t)\n",
    "        y_2 = perceptron(x1,x2,x3,w21_t,w22_t,w23_t,w20_t)\n",
    "        yhat = expit(w1_t*y_1+w2_t*y_2+w0_t)\n",
    "    \n",
    "        # backward\n",
    "        loss = -2*(y-yhat)\n",
    "    \n",
    "        # Output neuron gradient calculation\n",
    "        neuron_g_y_h_y1 = loss*yhat*(1-yhat)*w1_t\n",
    "        neuron_g_y_h_y2 = loss*yhat*(1-yhat)*w2_t\n",
    "        # Output weights calculation\n",
    "        w1_t = w1_t - lr*np.sum(loss*yhat*(1-yhat)*y_1)\n",
    "        w2_t = w2_t - lr*np.sum(loss*yhat*(1-yhat)*y_2)\n",
    "        w0_t = w0_t - lr*np.sum(loss*yhat*(1-yhat)*1)\n",
    "    \n",
    "    \n",
    "        # Hidden layer y_1 weights\n",
    "        w11_t = w11_t - lr*np.sum(neuron_g_y_h_y1*y_1*(1-y_1)*x1)\n",
    "        w12_t = w12_t - lr*np.sum(neuron_g_y_h_y1*y_1*(1-y_1)*x2)\n",
    "        w13_t = w13_t - lr*np.sum(neuron_g_y_h_y1*y_1*(1-y_1)*x3)\n",
    "        w10_t = w10_t - lr*np.sum(neuron_g_y_h_y1*y_1*(1-y_1)*1)\n",
    "    \n",
    "        # Hidden layer y_2 weights\n",
    "        w21_t = w21_t - lr*np.sum(neuron_g_y_h_y2*y_2*(1-y_2)*x1)\n",
    "        w22_t = w22_t - lr*np.sum(neuron_g_y_h_y2*y_2*(1-y_2)*x2)\n",
    "        w23_t = w23_t - lr*np.sum(neuron_g_y_h_y2*y_2*(1-y_2)*x3)\n",
    "        w20_t = w20_t - lr*np.sum(neuron_g_y_h_y2*y_2*(1-y_2)*1)\n",
    "        MSE[e] = np.sum((y-yhat)**2)\n",
    "    \n",
    "        # Final evaluation\n",
    "        y_1 = perceptron(x1,x2,x3,w11_t,w12_t,w13_t,w10_t)\n",
    "        y_2 = perceptron(x1,x2,x3,w21_t,w22_t,w23_t,w20_t)\n",
    "        yhat = expit(w1_t*y_1+w2_t*y_2+w0_t)\n",
    "        \n",
    "        #print(yhat)\n",
    "        #plt.plot(range(num_of_epochs),MSE)\n",
    "        #plt.show()\n",
    "    np.set_printoptions(precision=3,suppress=True)\n",
    "    print(f\" Ground Truth Value : {y}\")\n",
    "    print(f\" Final Predicted Value : {yhat}\")\n",
    "\n",
    "    \n",
    "\n",
    "    "
   ]
  },
  {
   "cell_type": "markdown",
   "id": "58b4cfea-a895-499d-a87b-a35383b48959",
   "metadata": {},
   "source": []
  }
 ],
 "metadata": {
  "kernelspec": {
   "display_name": "Python 3 (ipykernel)",
   "language": "python",
   "name": "python3"
  },
  "language_info": {
   "codemirror_mode": {
    "name": "ipython",
    "version": 3
   },
   "file_extension": ".py",
   "mimetype": "text/x-python",
   "name": "python",
   "nbconvert_exporter": "python",
   "pygments_lexer": "ipython3",
   "version": "3.11.8"
  }
 },
 "nbformat": 4,
 "nbformat_minor": 5
}
